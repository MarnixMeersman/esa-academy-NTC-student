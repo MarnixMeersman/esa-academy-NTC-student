{
 "metadata": {
  "kernelspec": {
   "display_name": "Octave (xoctave)",
   "language": "Octave",
   "name": "xoctave"
  },
  "language_info": {
   "codemirror_mode": "octave",
   "file_extension": ".m",
   "mimetype": "text/x-octave",
   "name": "Octave",
   "nbconvert_exporter": "",
   "pygments_lexer": "octave",
   "version": "8.4.0"
  }
 },
 "nbformat_minor": 5,
 "nbformat": 4,
 "cells": [
  {
   "id": "e8bc5f85",
   "cell_type": "markdown",
   "source": "# Correlation Exercise – *GPS L1 C/A*\n\nThis interactive notebook guides you through the **coarse‑acquisition** step used by every GNSS receiver.  You’ll fill in the missing pieces, run the code, and **acquire a real satellite you recorded**.",
   "metadata": {}
  },
  {
   "id": "202a1ebc",
   "cell_type": "markdown",
   "source": "## How to work in this notebook\n1. **Read the short theory sections**  They recap what the code does. Also recall the presentation slides.\n2. **Open each *Task* cell (yellow bar on the left) and replace the `...` with real code or numbers.**  Run the cell *(Shift‑Enter)*.\n3. **Run the script cell that follows.**  If something is still missing the script will stop and tell you what.\n4. Move on to the next section.\n\n>👉 **Tip 1:** execute the notebook **top‑to‑bottom** the first time so that all variables are visible where the scripts expect them.\n>\n>👉 **Tip 2:** *Click regularly on the \"save to browser storage button\" (next to the download button) to not lose your progress.*",
   "metadata": {}
  },
  {
   "id": "30af7edb",
   "cell_type": "markdown",
   "source": "# 0. IQ Data and Pre-Processing\nThis section demonstrates how to transform raw **I/Q** recordings into a cleaned MATLAB `.mat` file that you will load later for the actual acquisition steps.\n\n**You will:**\n1. Set the sampling frequency and file path  \n2. Read the binary file, format the complex samples  \n3. Inspect spectrum, time‑domain traces and amplitude histogram  \n4. Save the processed vector as **`IQ_samples.mat`**\n\nFollow the numbered code cells below and execute them in order (⇧ + ⏎).",
   "metadata": {}
  },
  {
   "id": "f7ab8dcb",
   "cell_type": "markdown",
   "source": "### 1.  Set Sampling Frequency",
   "metadata": {}
  },
  {
   "id": "1b7448ca",
   "cell_type": "code",
   "source": "% Sampling frequency (Hz)\nfs = 4.092e6;  % Enter sampling frequency, e.g. 1.000e6 for 1 MHz",
   "metadata": {
    "ExecuteTime": {
     "end_time": "2025-06-04T07:00:11.339388Z",
     "start_time": "2025-06-04T07:00:11.333985Z"
    },
    "editable": true,
    "slideshow": {
     "slide_type": ""
    },
    "tags": [],
    "trusted": true
   },
   "outputs": [],
   "execution_count": 1
  },
  {
   "id": "d38a60e9",
   "cell_type": "markdown",
   "source": "### 2.  Set Data File Path",
   "metadata": {}
  },
  {
   "id": "f2792667",
   "cell_type": "code",
   "source": "% Path to I/Q data file\ndata_file = '____________________';  % ← Enter filename, e.g. 'IQ.dat'",
   "metadata": {
    "trusted": true
   },
   "outputs": [],
   "execution_count": 2
  },
  {
   "id": "40dccf47",
   "cell_type": "markdown",
   "source": "### 3.  Load and Format I/Q Samples\nRead the binary file, handle interleaved I/Q channels, and remove initial transients.",
   "metadata": {}
  },
  {
   "id": "60f7e2e7",
   "cell_type": "code",
   "source": "% === Fixed Parameters ===\nfi = 0;                   % Intermediate frequency (Hz)\nIsComplex = true;         % True if data is I/Q\nIs8Bits = false;          % 8-bit integer format\nIs16Bits = false;         % 16-bit integer format\nIs32BitsFloat = true;     % 32-bit float format\nsecondOfData = 1;         % Seconds of data to read\nfc = 1575.42e6;          % Center frequency (Hz) for labels\n% ========================\n\n% Read binary samples\n[fid, errmsg] = fopen(data_file, 'rb');     % binary read\n\nif fid == -1\n    fprintf(2, '❌  Unable to open \"%s\": %s\\n', data_file, errmsg);\n    return              % Abort this cell early\nend\nif IsComplex\n    if Is16Bits\n        [raw, ~] = fread(fid, 2*secondOfData*fs, 'int16');\n    elseif Is8Bits\n        [raw, ~] = fread(fid, 2*secondOfData*fs, 'int8');\n    else\n        [raw, ~] = fread(fid, 2*secondOfData*fs, 'float32');\n    end\n    data = raw(1:2:end) + 1i*raw(2:2:end);\nelse\n    if Is16Bits\n        [data, ~] = fread(fid, secondOfData*fs, 'int16');\n    elseif Is8Bits\n        [data, ~] = fread(fid, secondOfData*fs, 'int8');\n    else\n        [data, ~] = fread(fid, secondOfData*fs, 'float32');\n    end\nend\nfclose(fid);\n\n% Remove initial transient samples\nif length(data) > 1e6\n    data(1:1e6) = [];\nend",
   "metadata": {
    "trusted": true
   },
   "outputs": [
    {
     "name": "stderr",
     "output_type": "stream",
     "text": "❌  Unable to open \"____________________\": No such file or directory\n"
    }
   ],
   "execution_count": 3
  },
  {
   "id": "c2f9b33b",
   "cell_type": "markdown",
   "source": "### 4.  Power Spectral Density\nUse Welch's method to estimate PSD and plot it. Frequency axis is in MHz.\nhttps://en.wikipedia.org/wiki/Welch%27s_method     <br><br>\n**Questions:**<br>\nWhat do you see? <br> \nIs the Spectrum according to your expectation?",
   "metadata": {}
  },
  {
   "id": "d4fb4c09",
   "cell_type": "code",
   "source": "disp(\"➡️  [PSD]  Starting Welch PSD estimate …\");\n\n% ------------------------------------------------------------\n% 1. Make sure the Octave-Forge “signal” package is available\n% ------------------------------------------------------------\nhas_signal = false;\ntry\n    % does \"signal\" appear in the installed-package list?\n    pkgs = pkg(\"list\");\n    for k = 1 : numel(pkgs)\n        if strcmp(pkgs{k}.name, \"signal\")\n            has_signal = true;\n            break\n        end\n    end\ncatch\n    % pkg() itself not found (rare)\nend\n\nif has_signal\n    try\n        pkg load signal\n        disp(\"   ✓  Loaded Octave-Forge package: signal\");\n    catch ME\n        has_signal = false;\n        fprintf(2,\"   ⚠️  Could not load 'signal' package (%s). Falling back to naive PSD.\\n\", ME.message);\n    end\nelse\n    fprintf(2,\"   ⚠️  Package 'signal' not installed. Falling back to naive PSD.\\n\");\nend\n\n% ------------------------------------------------------------\n% 2. Compute PSD\n% ------------------------------------------------------------\nif has_signal\n    [pw, f] = pwelch(data, [], [], [], fs);    % Welch method\n    disp(\"   ✓  PSD computed with pwelch()\");\nelse\n    % --- simple rectangular window periodogram as a fallback ---\n    Nfft  = 4096;\n    win   = hanning(Nfft);                     % a little windowing to reduce leakage\n    S     = fftshift( fft( data(1:Nfft) .* win.' , Nfft ) );\n    pw    = (abs(S).^2) / (fs * sum(win.^2));\n    f     = linspace(-fs/2, fs/2, Nfft);\n    disp(\"   ✓  PSD computed with naive FFT method\");\nend\n\n% ------------------------------------------------------------\n% 3. Plot\n% ------------------------------------------------------------\nfigure;\nif IsComplex\n    plot((fc+f-f(length(f))/2)/1e6, 10*log10(pw), 'LineWidth', 1);\n    xlim([(fc-fs)/1e6 (fc+fs)/1e6]);\nelse\n    plot(f/1e6,          10*log10(pw), 'LineWidth', 1);\nend\ngrid on;\nxlabel('Frequency (MHz)');\nylabel('PSD (dBW/Hz)');\ntitle('Power Spectral Density');\n\ndisp(\"✅  [PSD]  Finished and plotted.\");\n",
   "metadata": {
    "scrolled": true,
    "trusted": true
   },
   "outputs": [],
   "execution_count": null
  },
  {
   "id": "ec699a28",
   "cell_type": "markdown",
   "source": "### 5.  Time‑Domain View\nVisualize the first 100,000 samples of the real and imaginary parts.",
   "metadata": {}
  },
  {
   "id": "b2426b22",
   "cell_type": "code",
   "source": "disp(\"➡️  [TD]  Plotting real & imaginary parts …\");\n\n% ------------------------------------------------------------\n% 1. Decide how many samples we can safely show\n% ------------------------------------------------------------\nif numel(data) < 1e5\n    nplot = numel(data);\n    fprintf(2, \"   ⚠️  Only %d samples available – plotting all of them.\\n\", nplot);\nelse\n    nplot = 1e5;\n    fprintf(\"   ✓  Using first %d samples for the snapshot.\\n\", nplot);\nend\n\n% ------------------------------------------------------------\n% 2. Real component\n% ------------------------------------------------------------\nfigure;\nplot(real(data(1:nplot)), 'r.');\nxlabel('Sample');  ylabel('Amplitude');\ntitle(sprintf('Real Part (first %d samples)', nplot));\n\n% ------------------------------------------------------------\n% 3. Imaginary component\n% ------------------------------------------------------------\nfigure;\nplot(imag(data(1:nplot)), 'b.');\nxlabel('Sample');  ylabel('Amplitude');\ntitle(sprintf('Imaginary Part (first %d samples)', nplot));\n\ndisp(\"✅  [TD]  Finished plotting time-domain snapshots.\");\n",
   "metadata": {
    "trusted": true
   },
   "outputs": [],
   "execution_count": null
  },
  {
   "id": "a5722a6b",
   "cell_type": "markdown",
   "source": "### 6. Histogram of Real and Imaginary Component\nPlot the amplitude distribution to check for clipping or quantization.",
   "metadata": {}
  },
  {
   "id": "b9d1cc16",
   "cell_type": "code",
   "source": "figure;\nhist(real(data(1:1e5)), 18);\nxlabel('Amplitude');\nylabel('Count');\ntitle('Histogram of Real Part');\n\nfigure;\nhist(imag(data(1:1e5)), 18);\nxlabel('Amplitude');\nylabel('Count');\ntitle('Histogram of Imag Part');",
   "metadata": {
    "trusted": true
   },
   "outputs": [],
   "execution_count": null
  },
  {
   "id": "8d5367e1",
   "cell_type": "markdown",
   "source": "### 7.  Save Processed Data",
   "metadata": {}
  },
  {
   "id": "4e52c05e",
   "cell_type": "code",
   "source": "% Save to MAT-file\nsave('IQ_samples4MHz.mat', 'data');\ndisp('✅ Data saved to IQ_samples.mat');\ndisp('✅ Check in the left sidebar, you should find the .mat file there');",
   "metadata": {
    "trusted": true
   },
   "outputs": [],
   "execution_count": null
  },
  {
   "id": "6670b19b",
   "cell_type": "markdown",
   "source": "# 1. Common Helper Functions\n\nBelow are the three MATLAB/Octave functions that every GNSS acquisition routine needs.\n\n* **`CodeAcquisition`** – builds a 2‑D delay/Doppler search space using an FFT‑based correlation technique.\n* **`NoiseVarianceEstimator`** – estimate of the noise floor .\n* **`InverseChiSquarePfa`** – finds the chi-square threshold (Th) such that its upper-tail probability equals the target false alarm probability (PfaT).\n\n🔍 ***Where you still need to work*** – The first function contains *TODO* markers so you can practise the maths behind the FFT acquisition.",
   "metadata": {}
  },
  {
   "id": "9db158f0-fa95-42be-aa44-965a36edf83a",
   "cell_type": "markdown",
   "source": "### ✍️ **`CodeAcquisition`**  *Complete me!*\nThis function is extracts the signal out of the noise by performing the correlation between the collected signal samples and the replical of the GNSS signal.<br>\n<img src=\"figures/correlation_equations.png\" width=\"800\"/> <br><br>\n**Correlation process for a sequence of 28 chips** (for illustration purposes only - C/A code has 1023 chips and thus its correlation properties are much better).<br>\n<video controls src=\"figures/myCorrVideo.mp4\" width=\"800\" /><br><br>\n**Correlation of a GPS C/A PRN sequence (Autocorrelation)**\n<img src=\"figures/CA_ACF.png\" width=\"800\"/> <br><br>\n\n\n**Correlation of a GPS C/A PRN sequence (Autocorrelation)**<br>\n<img src=\"figures/CA_ACF.png\" width=\"800\"/> <br><br>\n1. **Normalize frequencies**\n   Convert the IF (`fi`) and Doppler offsets into fractions of the sampling rate so everything works in normalized units.\n\n3. **Pre-calculate the Complex Conjugate of the FFT of the Replica** (conj(FFT(y) in the equation above)\n   Compute `F_rep = __________?` once and re-use it when scanning through all Doppler bins\n\n4. **Loop over Doppler bins**\n   For each Doppler hypothesis, shift your signal samples by the Doppler offset frequency that you are testing, i.e. multiply with `exp(–2jπ·f_{Doppler})`, FFT it, multiply by `F_rep` (i.e. correlate), then IFFT back to get correlation function in the time domain.\n\n5. **Form the detection metric**\n   Take the magnitude-squared of each complex correlation to fill out the final `sspace` matrix, which you can then search for peaks.\n6. **Your Task** : Fill in the missing line 26 to compute the frequency-domain matched filter for the code replica.\n    > *Hint: Use the FFT and complex conjugate of the replica*\n",
   "metadata": {}
  },
  {
   "id": "a1d017b9",
   "cell_type": "code",
   "source": "function sspace = CodeAcquisition(signal, rep, Nc, Doppler_vec, fs, fi)\n% CodeAcquisition  Evaluate the search space for code acquisition using\n%                  a time-domain FFT technique\n%\n% Syntax:\n%   sspace = CodeAcquisition(signal, rep, Nc, Doppler_vec, fs, fi)\n%\n% Inputs:\n%   signal      [1×N]     Galileo/GPS input signal (with Doppler shift,\n%                         code delay, noise, etc.)\n%   rep         [1×Nc]    Local code replica\n%   Nc          integer   Length of the local code replica\n%   Doppler_vec [1×M]     Vector of Doppler offsets (Hz)\n%   fs          scalar    Sampling frequency (Hz)\n%   fi          scalar    Intermediate frequency (Hz)\n%\n% Output:\n%   sspace      [M×N]     Search-space matrix (correlation magnitudes)\n\n    % Normalize frequencies\n    fif           = fi / fs;\n    Doppler_norm  = Doppler_vec / fs;\n\n    % TODO\n    % Precompute FFT of the local replica\n    F_rep = _____________________________;\n\n    % Time index vector\n    N = size(signal, 2);\n    t = 0:(N - 1);\n\n    % Allocate output\n    sspace = zeros(length(Doppler_norm), N);\n\n    % Loop over all Doppler bins\n    for i = 1:length(Doppler_norm)\n        fc    = fif + Doppler_norm(i);\n        % Mix the input down to baseband for this Doppler bin\n        IQ    = ___________________________;\n        % FFT of the mixed signal\n        X     = fft(IQ);\n        % Frequency-domain correlation via multiplication\n        sspace(i, :) = ifft(X .* F_rep);\n    end\n\n    % Convert to real magnitude-squared values\n    sspace = real(sspace .* conj(sspace));\nend",
   "metadata": {
    "trusted": true
   },
   "outputs": [],
   "execution_count": null
  },
  {
   "id": "30fb02da-d625-434d-a0ce-c29b22242cb1",
   "cell_type": "markdown",
   "source": "### ▶ **`NoiseVarianceEstimator`**\nThis function estimates the noise variance in `y` by:\n\n1. **Random code**\n   Create a bipolar (±1) sequence whose length matches the data duration (`clen`).\n\n2. **Upsample**\n   Stretch that code to the full sampling rate (`fs`) so it aligns with `y`.\n\n3. **Correlate**\n   Run one Doppler‐free correlation of `y` against this “noise” code via `CodeAcquisition`.\n\n4. **Decimate**\n   Pick every `fs/fc`-th correlator output to obtain roughly independent noise samples.\n\n5. **Compute variance**\n   Take the mean of those samples and divide by 2 → your noise‐variance estimate `sigma_est`.",
   "metadata": {}
  },
  {
   "id": "339616cd",
   "cell_type": "code",
   "source": "function sigma_est = NoiseVarianceEstimator( y, fs, fc )\n\n% Arguments:\n%   y :         [vector] contains the input samples\n%   fs:         [scalar] sampling frequency\n%   fc:         [scalar] code rate\n\n%\n% Returns:\n%   sigma_est:     [scalar] the estimated noise variance\n%%\n\n% First generate a fictitious code\nclen = round( length( y ) / fs * fc );\ncode =  sign( rand( 1, clen ) - 0.5 );      % A bipolar random code usually has\n                                            % good correlation properties\n\n% Resample the code\nloc = reshape(repmat(code,fs/fc,1),1,fs/fc*size(code,2));\n\n% Now compute the correlators (for a single Doppler value is enough )\ncorrelators = CodeAcquisition( y, loc, 1, 0, fs, 0 );\n\n\n% Down-sample them to get uncorrelated values:\nstep = round( fs / fc );\ncorrelators = correlators(1:step:end);\n\n% Finally the noise variance estimate\nsigma_est = mean( correlators ) / 2;\n",
   "metadata": {
    "trusted": true
   },
   "outputs": [],
   "execution_count": null
  },
  {
   "id": "d2b0f020-7a72-4d54-a4d2-1c8807eacc49",
   "cell_type": "markdown",
   "source": "### ▶ **`InverseChiSquarePfa`**\nThis routine finds the χ²–distribution threshold `Th` for `K` degrees of freedom that yields a target false‐alarm rate `PfaT`.",
   "metadata": {}
  },
  {
   "id": "56cfa56f",
   "cell_type": "code",
   "source": "function Th = InverseChiSquarePfa( K, PfaT )\n\nTh = -2*log( PfaT );\n\nNiter = 1000;\nPfa = 0;\nii = 1;\n\nfact = factorial( K - 1 );\n\nwhile abs( PfaT - Pfa ) > 1e-3 * PfaT,\n\n    Pfa = gammainc( Th / 2, K, 'upper' );\t\t\t\t\t% Compute the ccdf\n    pdf = exp( -Th / 2 ) .* ( Th / 2 ).^( K - 1 ) / fact;\t% Compute the pdf\n\n    Th = Th + ( Pfa - PfaT )/ pdf;\n\n    ii = ii + 1;\n    if ii > Niter,\n        break;\n    end\n    \nend",
   "metadata": {
    "trusted": true
   },
   "outputs": [],
   "execution_count": null
  },
  {
   "id": "039ba19d",
   "cell_type": "markdown",
   "source": "# 2. GPS L1 C/A acquisition",
   "metadata": {}
  },
  {
   "id": "3298a5e9",
   "cell_type": "markdown",
   "source": "**Goal:** detect a legacy GPS C/A code.\n\nTwo open tasks:\n1. *Task&nbsp;P1* – up‑sample the C/A PRN replica to the 2.046 MHz sample rate.\n2. *Task&nbsp;P2* – build a Doppler search vector covering ±10 kHz.\n\nWhen you’re done, run `Acquire GPS C/A` section to execute the search.",
   "metadata": {}
  },
  {
   "id": "45a51c98-08d8-4ebd-a985-2a8788d78e60",
   "cell_type": "markdown",
   "source": "### ▶ Initialisation - Run section and use these variables for Task P1 and P2\n\nKey aspects of this section: <br>\n- load the I/Q samples stored earlier in the `.mat` file\n- load GPS C/A Code PRN sequences. Every GPS satellites has a unique PRN code sequence for every signal component like the C/A code <br>\n  . C/A PRN code has a length of 1023 bits <br>\n  . C/A Code modulation is BPSK(1) - Binary Phase Shift Keying with a chip rate of 1.023 MHz <br>\n- define the coherent integration time - below it is specified with 5 ms - you may want to experiment with it\n- PRN code is repeated (w/o changing the sampling rate) to align start forming the replica. The PRN code replica needs to align to the coherent integration time.",
   "metadata": {}
  },
  {
   "id": "699a0db3-5605-4e68-b9d7-c24cceab949b",
   "cell_type": "code",
   "source": "%=========================================================================%\n% Load the prepared IQ samples                                            %\n%=========================================================================%\nload IQ_samples4MHz.mat\n\n%=========================================================================%\n% Load the PRN  code                                                      %\n%=========================================================================%\n\nload gps_ca_codes.mat;\n\n%=========================================================================%\n% Initialise                                                              %\n%=========================================================================%\n\n\nfi = 0;\nfc = 1.023e6; % GNSS signal chip rate\nfs = 4.092e6; % Sample rate\nTcoh = 5e-3; % Coherent Integration time [ms]\nT_primary_code = 1e-3; %Period of the primary code [ms]\nN_noncoh = 1; %Number of non-coherent accumulations\nTdwell = Tcoh *N_noncoh; %Total Dwell time [ms]\nNsample = Tcoh * fs; %Number of signal samples in Coherent Integration Period\n\nPRN = repmat(gps_ca,1,round(Tcoh/T_primary_code));",
   "metadata": {
    "trusted": true
   },
   "outputs": [],
   "execution_count": null
  },
  {
   "id": "ee89f7ca-84ae-4518-85c5-6cf947cb114e",
   "cell_type": "markdown",
   "source": [
    "### ✍️ Task P1 - *Up-sample the GPS C/A Code*\n",
    "Build the matrix `Rep` so that each row `i` contains the up-sampled replica for PRN `i`.\n",
    "\n",
    "**Remember:**\n",
    "\n",
    " - The GPS C/A is a BPSK(1), i.e. a signal at a rate of 1.023 MHz\n",
    " \n",
    " - The recorded signal is sampled at a rate of 4.092 MHz\n",
    "\n",
    "**What you need to do:**\n",
    "\n",
    "Up-sample the C/A code replica to 2.046 MHz, i.e. repeat every chip of the C/A code replica 2 times.\n",
    "\n",
    "<img src=\"figures/upsample.png\" width=\"800\"/>\n",
    "\n",
    "> *Hint: You can use the functions repmat and reshape to repeat every sample twice (1.023 → 2.046 MHz) (ref. homework)*"
   ],
   "metadata": {}
  },
  {
   "id": "be56e5c1",
   "cell_type": "code",
   "source": "for i=1:size(PRN,1)\n\n    Rep(i, :) = _________________;\n\nend",
   "metadata": {
    "trusted": true
   },
   "outputs": [],
   "execution_count": null
  },
  {
   "id": "62294b8f-8300-466e-9944-fe6a4b63120f",
   "cell_type": "markdown",
   "source": "### ✍️ Task P2 - *Doppler Search Vector*\n**Important to know**, Doppler range for a GNSS signal in L-Band and a static user on ground can be within -10/+10 kHz (with good margin) <br>\n\nCreate a row vector `Doppler_vec` that goes from -10 kHz to +10kHz with a 0 value in the center. <br>\nFor the Doppler increment you can follow the rule of thumb: \n$$\\Delta f_{Doppler} = \\frac{2}{3\\cdot T_{dwell}} [Hz]$$\nwith\n$$T_{dewell} = T_{coh} \\cdot N_{non-coherent} [s]$$\nWe are using a coherent Integraction time $T_{coh}$ of 5 ms and no non-coherent accumulation.\n\n\n\n\n**What you need to do:**\n\nBuild up a vector (single row, N columns) that ranges from `-Doppler_range` in steps of `Doppler_step` up to `+Doppler_range`.\n <br><br>\n<img src=\"figures/Doppler_Vector.png\" width=\"800\"/>\n> For symmetry purposes it is good to center around 0 Hz, you do **not** need to match exactly +/- 10 kHz on the lower/upper limit",
   "metadata": {}
  },
  {
   "id": "668bf143",
   "cell_type": "code",
   "source": "Doppler_range = 10e3 ;\nDoppler_step = round(2/(3*Tdwell));\n\nDoppler_vec = [__________________________________];\nDoppler_vec = [__________________________________];",
   "metadata": {
    "trusted": true
   },
   "outputs": [],
   "execution_count": null
  },
  {
   "id": "e5604b19-28f3-476e-bf30-b04f69a81cc8",
   "cell_type": "markdown",
   "source": "### ▶ **`Acquire GPS C/A`** *Run after tasks P1 and P2*\n\nThis function performs the acquistion of the GPS C/A code signal, i.e. this function is\n1. Testing for several GPS C/A codes whether the code can be acquired within the collected signal samples, i.e. whether it can be extracted out of the noise\n2. Calling the `CodeAcquisition` function\n3. Testing whether the energy extracted (i.e. the correlation maximum) is sufficient to declare successful acquisisition. For this decision logic with Probability of False Alarm is established.\n4. In case the correlation maximum is exceeding the test threshold, acquisition is declared and you get <br>\n    . Information which PRN has been acquired<br>\n    . Information about Code Delay and Doppler Frequency Offset<br>\n    . Plot of the Acquisition Matrix<br>\n    . Acquisition Search Space results are stored in a .mat file (sspace_PRNxxx.mat)<br>",
   "metadata": {}
  },
  {
   "id": "4808a963",
   "cell_type": "code",
   "source": "% Sanity checks\nassert(exist('Rep','var') && exist('Doppler_vec','var'), '❌ Run Task P1/P2 first');\n\n%=========================================================================%\n% Search over all possible PRN sequences                                  %\n%=========================================================================%\nfor code_select = 1:30\n\n    Rep_search = Rep(code_select,:);\n    \n    Nc = round(Tcoh/1e-3)*fs/1e3;\n    sspace = 0;\n    \n    for ii = 1:N_noncoh\n    \n        y =  data( (ii - 1) * Nc + (1:Nc) ).';   % use just 1 period of signal at the time\n    \n        % Compute the search space for a single coherent integration epoch\n        Tsspace = CodeAcquisition( y, Rep_search, Nc, Doppler_vec, fs, fi);\n        sspace = sspace + Tsspace;  % Non-coherently accumulate the results\n\n    end\n\n    %=========================================================================%\n    % Decision Logic                                                          %\n    %=========================================================================%\n    Pfa_global = 0.01;\n    %Pfa_cell = 1-(1-Pfa_global).^(1/numel(sspace));\n    Pfa_cell = Pfa_global/numel(sspace)*2;\n    \n    Th = InverseChiSquarePfa(N_noncoh, Pfa_cell);\n    sigma_est = NoiseVarianceEstimator(y, fs, fc);\n    Th = sigma_est * Th;\n    \n    sspace_single_period = reshape(sspace,[size(sspace,1),fs/fc*size(PRN,2)/(Tcoh*1e3),Tcoh*1e3]);\n    sspace_single_period = squeeze(sum(sspace_single_period,3));\n\n    fprintf('code select: %i   %f   %f\\n',code_select, max(max(sspace)), Th);\n    \n    if (max(max(sspace)) > Th)\n    \n            [doppler_id, delay_id] = find(sspace == max(max(sspace)));\n            fprintf('PRN %i acquired, Doppler [Hz]: %f, Code Delay [samples]: %i\\n',code_select, Doppler_vec(doppler_id(1)), delay_id(1));\n            figure\n            surf( sspace_single_period, 'EdgeColor', 'none');\n            set( gca, 'FontSize', 16)\n            xlabel('Delay [samples]');\n            ylabel('Doppler Bin');\n            xlim([0 size(sspace_single_period,2)]);\n            ylim([1 length(Doppler_vec)])\n            output_file = ['sspace_PRN',num2str(code_select,'%i'),'.mat'];\n            save(output_file, 'sspace', 'Doppler_vec');\n    end\n\n\nend",
   "metadata": {
    "trusted": true
   },
   "outputs": [],
   "execution_count": null
  },
  {
   "id": "2b300b0d-2135-49c6-9077-e78834fcadc2",
   "cell_type": "markdown",
   "source": "### ✍️ Task P3 - <i>Plot for your first acquired signal the Correlation Main Peak </i>\n\nWhat you need to do:\n1. load the `.mat` file containing the search space of a successfully acquired code (`sspace_PRNxxx.mat`)\n2. Recall from above the Doppler Frequency offset\n3. Find the index of the Doppler Frequency offset in the vector `Doppler_vec`\n4. Plot the corresponding row of `sspace`\n\n",
   "metadata": {}
  },
  {
   "id": "fc034a27-6eb9-4a85-ba28-0619d2796022",
   "cell_type": "code",
   "source": "________________________;\n________________________;\nfigure; plot(___________);",
   "metadata": {
    "trusted": true
   },
   "outputs": [],
   "execution_count": null
  }
 ]
}
